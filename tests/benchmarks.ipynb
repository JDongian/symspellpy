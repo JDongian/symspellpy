{
 "cells": [
  {
   "cell_type": "code",
   "execution_count": 1,
   "metadata": {},
   "outputs": [],
   "source": [
    "import pkg_resources\n",
    "import sys\n",
    "from pathlib import Path\n",
    "\n",
    "sys.path.append(str(Path.cwd().parent))\n",
    "\n",
    "from symspellpy import SymSpell, Verbosity\n",
    "from symspellpy.editdistance import DistanceAlgorithm\n"
   ]
  },
  {
   "cell_type": "code",
   "execution_count": 3,
   "metadata": {},
   "outputs": [
    {
     "data": {
      "text/plain": [
       "True"
      ]
     },
     "execution_count": 3,
     "metadata": {},
     "output_type": "execute_result"
    }
   ],
   "source": [
    "bigram_path = pkg_resources.resource_filename(\n",
    "    \"symspellpy\", \"frequency_bigramdictionary_en_243_342.txt\"\n",
    ")\n",
    "dictionary_path = pkg_resources.resource_filename(\n",
    "    \"symspellpy\", \"frequency_dictionary_en_82_765.txt\"\n",
    ")\n",
    "\n",
    "sym_spell_damerau_osa = SymSpell()\n",
    "sym_spell_damerau_osa.distance_algorithm = DistanceAlgorithm.DAMERAU_OSA\n",
    "sym_spell_damerau_osa.load_bigram_dictionary(bigram_path, 0, 2)\n",
    "sym_spell_damerau_osa.load_dictionary(dictionary_path, 0, 1)\n",
    "\n",
    "sym_spell_damerau_osa_fast = SymSpell()\n",
    "sym_spell_damerau_osa_fast.distance_algorithm = DistanceAlgorithm.DAMERAU_OSA_FAST\n",
    "sym_spell_damerau_osa_fast.load_bigram_dictionary(bigram_path, 0, 2)\n",
    "sym_spell_damerau_osa_fast.load_dictionary(dictionary_path, 0, 1)\n",
    "\n",
    "sym_spell_levenshtein = SymSpell()\n",
    "sym_spell_levenshtein.distance_algorithm = DistanceAlgorithm.LEVENSHTEIN\n",
    "sym_spell_levenshtein.load_bigram_dictionary(bigram_path, 0, 2)\n",
    "sym_spell_levenshtein.load_dictionary(dictionary_path, 0, 1)\n",
    "\n",
    "sym_spell_levenshtein_fast = SymSpell()\n",
    "sym_spell_levenshtein_fast.distance_algorithm = DistanceAlgorithm.LEVENSHTEIN_FAST\n",
    "sym_spell_levenshtein_fast.load_bigram_dictionary(bigram_path, 0, 2)\n",
    "sym_spell_levenshtein_fast.load_dictionary(dictionary_path, 0, 1)\n",
    "\n",
    "sym_spell_ukkonen = SymSpell()\n",
    "sym_spell_ukkonen.distance_algorithm = DistanceAlgorithm.UKKONEN\n",
    "sym_spell_ukkonen.load_bigram_dictionary(bigram_path, 0, 2)\n",
    "sym_spell_ukkonen.load_dictionary(dictionary_path, 0, 1)"
   ]
  },
  {
   "cell_type": "code",
   "execution_count": 4,
   "metadata": {},
   "outputs": [],
   "source": [
    "def lookup_damerau_osa():\n",
    "    sym_spell_damerau_osa.lookup(\"tepmperamet\", Verbosity.ALL)\n",
    "\n",
    "def lookup_damerau_osa_fast():\n",
    "    sym_spell_damerau_osa_fast.lookup(\"tepmperamet\", Verbosity.ALL)\n",
    "\n",
    "def lookup_levenshtein():\n",
    "    sym_spell_levenshtein.lookup(\"tepmperamet\", Verbosity.ALL)\n",
    "\n",
    "def lookup_levenshtein_fast():\n",
    "    sym_spell_levenshtein_fast.lookup(\"tepmperamet\", Verbosity.ALL)\n",
    "\n",
    "def lookup_ukkonen():\n",
    "    sym_spell_ukkonen.lookup(\"tepmperamet\", Verbosity.ALL)\n",
    "\n",
    "def lookup_compound_damerau_osa():\n",
    "    sym_spell_damerau_osa.lookup_compound(\"whereis th elove hehad dated forImuch of thepast who couqdn'tread in sixthgrade and ins pired him\", 2)\n",
    "\n",
    "def lookup_compound_damerau_osa_fast():\n",
    "    sym_spell_damerau_osa_fast.lookup_compound(\"whereis th elove hehad dated forImuch of thepast who couqdn'tread in sixthgrade and ins pired him\", 2)\n",
    "\n",
    "def lookup_compound_levenshtein():\n",
    "    sym_spell_levenshtein.lookup_compound(\"whereis th elove hehad dated forImuch of thepast who couqdn'tread in sixthgrade and ins pired him\", 2)\n",
    "\n",
    "def lookup_compound_levenshtein_fast():\n",
    "    sym_spell_levenshtein_fast.lookup_compound(\"whereis th elove hehad dated forImuch of thepast who couqdn'tread in sixthgrade and ins pired him\", 2)\n",
    "\n",
    "def lookup_compound_ukkonen():\n",
    "    sym_spell_ukkonen.lookup_compound(\"whereis th elove hehad dated forImuch of thepast who couqdn'tread in sixthgrade and ins pired him\", 2)\n",
    "\n",
    "def word_segmentation_damerau_osa():\n",
    "    sym_spell_damerau_osa.word_segmentation(\"thequickbrownfoxjumpsoverthelazydog\", 0)\n",
    "\n",
    "def word_segmentation_damerau_osa_fast():\n",
    "    sym_spell_damerau_osa_fast.word_segmentation(\"thequickbrownfoxjumpsoverthelazydog\", 0)\n",
    "\n",
    "def word_segmentation_levenshtein():\n",
    "    sym_spell_levenshtein.word_segmentation(\"thequickbrownfoxjumpsoverthelazydog\", 0)\n",
    "\n",
    "def word_segmentation_levenshtein_fast():\n",
    "    sym_spell_levenshtein_fast.word_segmentation(\"thequickbrownfoxjumpsoverthelazydog\", 0)"
   ]
  },
  {
   "cell_type": "code",
   "execution_count": 5,
   "metadata": {},
   "outputs": [
    {
     "name": "stdout",
     "output_type": "stream",
     "text": [
      "220 µs ± 1.35 µs per loop (mean ± std. dev. of 7 runs, 1000 loops each)\n",
      "128 µs ± 538 ns per loop (mean ± std. dev. of 7 runs, 10000 loops each)\n",
      "193 µs ± 593 ns per loop (mean ± std. dev. of 7 runs, 10000 loops each)\n",
      "127 µs ± 305 ns per loop (mean ± std. dev. of 7 runs, 10000 loops each)\n",
      "215 µs ± 698 ns per loop (mean ± std. dev. of 7 runs, 1000 loops each)\n"
     ]
    }
   ],
   "source": [
    "%timeit lookup_damerau_osa()\n",
    "%timeit lookup_damerau_osa_fast()\n",
    "%timeit lookup_levenshtein()\n",
    "%timeit lookup_levenshtein_fast()\n",
    "%timeit lookup_ukkonen()"
   ]
  },
  {
   "cell_type": "code",
   "execution_count": 6,
   "metadata": {},
   "outputs": [
    {
     "name": "stdout",
     "output_type": "stream",
     "text": [
      "20.1 ms ± 181 µs per loop (mean ± std. dev. of 7 runs, 10 loops each)\n",
      "9.48 ms ± 34 µs per loop (mean ± std. dev. of 7 runs, 100 loops each)\n",
      "17.8 ms ± 48.3 µs per loop (mean ± std. dev. of 7 runs, 100 loops each)\n",
      "9.39 ms ± 38.2 µs per loop (mean ± std. dev. of 7 runs, 100 loops each)\n",
      "22.6 ms ± 79.2 µs per loop (mean ± std. dev. of 7 runs, 10 loops each)\n"
     ]
    }
   ],
   "source": [
    "%timeit lookup_compound_damerau_osa()\n",
    "%timeit lookup_compound_damerau_osa_fast()\n",
    "%timeit lookup_compound_levenshtein()\n",
    "%timeit lookup_compound_levenshtein_fast()\n",
    "%timeit lookup_compound_ukkonen()"
   ]
  },
  {
   "cell_type": "code",
   "execution_count": 6,
   "metadata": {},
   "outputs": [
    {
     "name": "stdout",
     "output_type": "stream",
     "text": [
      "1.64 ms ± 23.4 µs per loop (mean ± std. dev. of 7 runs, 1000 loops each)\n",
      "1.65 ms ± 19.9 µs per loop (mean ± std. dev. of 7 runs, 1000 loops each)\n",
      "1.63 ms ± 4.87 µs per loop (mean ± std. dev. of 7 runs, 1000 loops each)\n",
      "1.63 ms ± 3.91 µs per loop (mean ± std. dev. of 7 runs, 1000 loops each)\n"
     ]
    }
   ],
   "source": [
    "%timeit word_segmentation_damerau_osa()\n",
    "%timeit word_segmentation_damerau_osa_fast()\n",
    "%timeit word_segmentation_levenshtein()\n",
    "%timeit word_segmentation_levenshtein_fast()"
   ]
  },
  {
   "cell_type": "markdown",
   "metadata": {},
   "source": [
    "**Note**: Result for `word_segmentation` is expected since we are passing `max_edit_distance=0`."
   ]
  }
 ],
 "metadata": {
  "interpreter": {
   "hash": "d83327bb218665ef1f16f1956a0b9fb217f4e8f6e80f84663e37ea0a49e5699a"
  },
  "kernelspec": {
   "display_name": "Python 3.8.12 64-bit ('symspellpy': conda)",
   "language": "python",
   "name": "python3"
  },
  "language_info": {
   "codemirror_mode": {
    "name": "ipython",
    "version": 3
   },
   "file_extension": ".py",
   "mimetype": "text/x-python",
   "name": "python",
   "nbconvert_exporter": "python",
   "pygments_lexer": "ipython3",
   "version": "3.8.12"
  },
  "orig_nbformat": 4
 },
 "nbformat": 4,
 "nbformat_minor": 2
}
